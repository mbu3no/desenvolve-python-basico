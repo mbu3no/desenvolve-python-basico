{
  "metadata": {
    "kernelspec": {
      "display_name": "Python 3 (ipykernel)",
      "language": "python",
      "name": "python3"
    },
    "language_info": {
      "codemirror_mode": {
        "name": "ipython",
        "version": 3
      },
      "file_extension": ".py",
      "mimetype": "text/x-python",
      "name": "python",
      "nbconvert_exporter": "python",
      "pygments_lexer": "ipython3",
      "version": "3.9.6"
    }
  },
  "nbformat_minor": 5,
  "nbformat": 4,
  "cells": [
    {
      "id": "0d5035b5",
      "cell_type": "markdown",
      "source": "# Listas\n\n## Aulas 6.1 a 6.5 ",
      "metadata": {}
    },
    {
      "id": "0bdece85",
      "cell_type": "markdown",
      "source": "### Q1. \n\nUsando a função embutida ```map``` e criando uma função ```lambda```, transforme uma lista com os raios de múltiplas circunferências em uma nova lista com as respectivas áreas. O cálculo de cada área é dado por: ```pi*(raio**2)```\n- Use a constante pi da biblioteca math \n- Arredonde o resultado para 2 casas decimais\n",
      "metadata": {}
    },
    {
      "id": "0a258eba",
      "cell_type": "code",
      "source": "import math\n\nraios = [1.5, 0.8, 2.3, 5.0]\nareas = list(map(lambda r: round(math.pi * r**2, 2), raios))\nprint(\"Áreas:\", areas)",
      "metadata": {},
      "outputs": [],
      "execution_count": null
    },
    {
      "id": "649a5082",
      "cell_type": "markdown",
      "source": "### Q2. \n\nCrie uma função customizada e aplique a função embutida ```filter``` para operar em uma lista de listas contendo os lados de múltiplos triângulos. Construa uma nova lista contendo apenas os triângulos equiláteros, ou seja, com os três lados iguais.\n",
      "metadata": {}
    },
    {
      "id": "47cb0573",
      "cell_type": "code",
      "source": "def testa_equilatero(lados):\n    return lados[0] == lados[1] == lados[2]\n\ntriangulos = [[2,2,2], [3,4,5], [3,2,2],[4,4,4]]\nequilateros = list(filter(testa_equilatero, triangulos))\nprint(\"Triângulos equiláteros:\", equilateros)",
      "metadata": {},
      "outputs": [],
      "execution_count": null
    },
    {
      "id": "bb62d219",
      "cell_type": "markdown",
      "source": "### Q3. \nCrie uma função chamada ```ordena_por_comprimento``` que aceite uma lista de strings e a ordene com base no comprimento das strings, do menor para o maior. Utilize a função ```sorte``` e uma expressão ```lambda```.",
      "metadata": {}
    },
    {
      "id": "add41556",
      "cell_type": "code",
      "source": "def ordena_por_comprimento(lista):\n    return sorted(lista, key=lambda x: len(x))\n\nnomes = [\"Joao\", \"Maria\", \"Jose\", \"Gabriela\", \"Sol\", \"Luna\", \"Bento\", \"Enzo\", \"Fernanda\"]\nresultado = ordena_por_comprimento(nomes)\nprint(\"Lista ordenada por comprimento:\", resultado)",
      "metadata": {},
      "outputs": [],
      "execution_count": null
    },
    {
      "id": "8710b1a7",
      "cell_type": "markdown",
      "source": "### Q4.\n\nCrie uma lista de listas (uma matriz de 2 dimensões) de tamanho $n \\times n$, com $n$ dado pelo usuário. Cada elemento da matriz deve ser o produto dos índices da linha pela coluna.\n\nExemplo:\n```\nDigite n: 4\nMatriz:\n[[0, 0, 0, 0],\n [0, 1, 2, 3],\n [0, 2, 4, 6],\n [0, 3, 6, 9]]\n```",
      "metadata": {}
    },
    {
      "id": "0b7ee921",
      "cell_type": "code",
      "source": "n = int(input(\"Digite n: \"))\nmatriz = [[i*j for j in range(n)] for i in range(n)]\nprint(\"Matriz:\")\nfor linha in matriz:\n    print(linha)",
      "metadata": {},
      "outputs": [],
      "execution_count": null
    },
    {
      "id": "f41781df",
      "cell_type": "markdown",
      "source": "### Q5.\n\nDada uma lista de números inteiros, implemente uma função em Python chamada ```pares_unicos``` que encontre e retorne todos os pares únicos de elementos na lista cuja soma seja igual a um determinado valor. Considere que a ordem dos pares não é relevante.",
      "metadata": {}
    },
    {
      "id": "7a76f765",
      "cell_type": "code",
      "source": "def pares_unicos(numeros, soma_objetivo):\n    resultado = []\n    vistos = set()\n    for i in range(len(numeros)):\n        for j in range(i+1, len(numeros)):\n            if numeros[i] + numeros[j] == soma_objetivo:\n                par = tuple(sorted((numeros[i], numeros[j])))\n                if par not in vistos:\n                    resultado.append(par)\n                    vistos.add(par)\n    return resultado\n\nnums = [3, 4, 5, 6, 7]\nsoma = 10\nresultado = pares_unicos(nums, soma)\nprint(resultado)  # [(3,7), (4,6)]",
      "metadata": {},
      "outputs": [],
      "execution_count": null
    },
    {
      "id": "87e44893",
      "cell_type": "markdown",
      "source": "### Q5.\n\nEscreva um programa para encontrar a diferença entre duas listas, incluindo elementos duplicados.\n\nEx:\n```\nListas originais: \n[1, 1, 2, 3, 3, 4, 4, 5, 6, 7]\n[1, 1, 2, 4, 5, 6]\nDiferença entre as listas:\n[3, 3, 4, 7]\n```",
      "metadata": {}
    },
    {
      "id": "7edc027c",
      "cell_type": "code",
      "source": "lista1 = [1, 1, 2, 3, 3, 4, 4, 5, 6, 7]\nlista2 = [1, 1, 2, 4, 5, 6]\n\ndef diferenca_listas(l1, l2):\n    l2_copy = l2.copy()\n    diff = []\n    for elem in l1:\n        if elem in l2_copy:\n            l2_copy.remove(elem)\n        else:\n            diff.append(elem)\n    return diff\n\nresultado = diferenca_listas(lista1, lista2)\nprint(\"Diferença entre as listas:\", resultado)  # [3, 3, 4, 7]",
      "metadata": {},
      "outputs": [],
      "execution_count": null
    },
    {
      "id": "f4c4236d",
      "cell_type": "markdown",
      "source": "### Q6.\n\nDada uma lista aleatória, escreva um programa que separa os valores em listas menores de acordo com o tamanho solicitado. Caso não seja possível repartir igualmente a lista original, a última sublista deve conter os elementos remanescentes, como indicado no exemplo a seguir.\n\nNote que seu programa deve continuar executando em um laço infinito até que o usuário informe o tamanho 0 na entrada solicitada.\n\n```\nLista original:\n[12, 45, 23, 67, 78, 90, 45, 32, 100, 76, 38, 62, 73, 29, 83]\n\nTamanho para divisão: 3\nSubslistas:\n[[12, 45, 23], [67, 78, 90], [45, 32, 100], [76, 38, 62], [73, 29, 83]]\n\nTamanho para divisão: 4\nSubslistas: [[12, 45, 23, 67], [78, 90, 45, 32], [100, 76, 38, 62], [73, 29, 83]]\n\nTamanho para divisão: 0\n```",
      "metadata": {}
    },
    {
      "id": "792563de",
      "cell_type": "code",
      "source": "import random\n\nlista = [12, 45, 23, 67, 78, 90, 45, 32, 100, 76, 38, 62, 73, 29, 83]\n\nwhile True:\n    n = int(input(\"Tamanho para divisão: \"))\n    if n == 0:\n        break\n    sublistas = [lista[i:i+n] for i in range(0, len(lista), n)]\n    print(\"Sublistas:\", sublistas)",
      "metadata": {},
      "outputs": [],
      "execution_count": null
    },
    {
      "id": "c65be32f",
      "cell_type": "markdown",
      "source": "### Q7.\n\nVocê está desenvolvendo um programa para determinar o vencedor de um jogo da velha. Escreva uma função ```avalia_tabuleiro()``` que recebe uma lista representando o estado atual do tabuleiro e determina se há um vencedor. \n\nA lista terá 3 sublistas, cada uma representando uma linha do tabuleiro. Cada elemento das sublistas pode ser 'X', 'O' ou vazio (' ').\n\nO programa deve imprimir o vencedor ('X', 'O'), se houver um, ou \"Empate\" se não houver vencedor. Um vencedor é determinado se houver três 'X' ou três 'O' em linha (horizontal, vertical ou diagonal).\n\nExemplo:\n```python\ntabuleiro = [\n    ['X', 'O', 'X'],\n    [' ', 'X', 'O'],\n    ['O', ' ', 'O']\n]\n```\nO resultado seria \"Empate\", pois não há um vencedor no exemplo fornecido. \n\nExemplo 2:\n```python\ntabuleiro = [\n    ['O', 'X', 'O'],\n    ['X', 'O', 'X'],\n    ['X', ' ', 'O']\n]\n```\nO resultado seria \"O\", pois 'O' venceu na diagonal central.",
      "metadata": {}
    },
    {
      "id": "720ca24d",
      "cell_type": "code",
      "source": "def avalia_tabuleiro(tab):\n    # Checa linhas e colunas\n    for i in range(3):\n        if tab[i][0] == tab[i][1] == tab[i][2] != ' ':\n            return tab[i][0]\n        if tab[0][i] == tab[1][i] == tab[2][i] != ' ':\n            return tab[0][i]\n    # Diagonais\n    if tab[0][0] == tab[1][1] == tab[2][2] != ' ':\n        return tab[0][0]\n    if tab[0][2] == tab[1][1] == tab[2][0] != ' ':\n        return tab[0][2]\n    return \"Empate\"\n\ntabuleiro1 = [['X', 'O', 'X'], [' ', 'X', 'O'], ['O', ' ', 'X']]\ntabuleiro2 = [['X', 'O', 'O'], ['X', 'X', 'O'], ['X', 'O', 'X']]\ntabuleiro3 = [[' ', ' ', ' '], ['X', ' ', 'O'], ['O', 'X', 'X']]\ntabuleiro4 = [['O', 'O', 'O'], ['X', ' ', 'X'], ['O', 'X', 'X']]\ntabuleiro5 = [['X', 'X', 'O'], ['X', ' ', 'O'], ['O', 'O', 'X']]\n\nfor i, tab in enumerate([tabuleiro1, tabuleiro2, tabuleiro3, tabuleiro4, tabuleiro5], start=1):\n    print(f\"Tabuleiro {i}: {avalia_tabuleiro(tab)}\")",
      "metadata": {},
      "outputs": [],
      "execution_count": null
    }
  ]
}